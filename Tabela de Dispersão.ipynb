{
 "cells": [
  {
   "cell_type": "markdown",
   "metadata": {},
   "source": [
    "## Importando Bibliotecas"
   ]
  },
  {
   "cell_type": "code",
   "execution_count": 1,
   "metadata": {},
   "outputs": [],
   "source": [
    "import random"
   ]
  },
  {
   "cell_type": "markdown",
   "metadata": {},
   "source": [
    "## Funções - Simple Tabulation Hash"
   ]
  },
  {
   "cell_type": "code",
   "execution_count": 2,
   "metadata": {},
   "outputs": [],
   "source": [
    "def particionar(x):\n",
    "    x = format(x, '064b')\n",
    "    particoes = []\n",
    "    for i in range(0, len(x), 8):\n",
    "        particoes.append(x[i:i+8])\n",
    "    return particoes"
   ]
  },
  {
   "cell_type": "code",
   "execution_count": 3,
   "metadata": {},
   "outputs": [],
   "source": [
    "def tabelaAleatoria():\n",
    "    tabelas = []\n",
    "    random.seed(10)\n",
    "    for i in range(0, 8):\n",
    "        tabela = []\n",
    "        for j in range(0, 256):\n",
    "            tabela.append(random.randint(0, 2**64))\n",
    "        tabelas.append(tabela)\n",
    "    return tabelas"
   ]
  },
  {
   "cell_type": "code",
   "execution_count": 4,
   "metadata": {},
   "outputs": [],
   "source": [
    "def funcaoHash(x):\n",
    "    particoesBinarias = particionar(x)\n",
    "    decimais = []\n",
    "    for i in range(0, 8):\n",
    "        decimais.append(int(particoesBinarias[i], 2))\n",
    "    tabelas = tabelaAleatoria()\n",
    "    h = tabelas[0][decimais[0]] ^ tabelas[1][decimais[1]]\n",
    "    for i in range(2, 8):\n",
    "        h = h ^ tabelas[i][decimais[i]]\n",
    "    return h"
   ]
  },
  {
   "cell_type": "markdown",
   "metadata": {},
   "source": [
    "## Table Doubling e Halving"
   ]
  },
  {
   "cell_type": "code",
   "execution_count": 5,
   "metadata": {},
   "outputs": [],
   "source": [
    "def inicilizarTabela(m):\n",
    "    tabela = []\n",
    "    for i in range(0, m):\n",
    "        tabela.append(None)\n",
    "    return tabela"
   ]
  },
  {
   "cell_type": "code",
   "execution_count": 6,
   "metadata": {},
   "outputs": [],
   "source": [
    "def limpar(tabela):\n",
    "    global contadorTag\n",
    "    contadorTag = 0\n",
    "    novaTabela = inicilizarTabela(len(tabela))\n",
    "    novaTabela = remapear(tabela, novaTabela, False)\n",
    "    return novaTabela"
   ]
  },
  {
   "cell_type": "code",
   "execution_count": 7,
   "metadata": {},
   "outputs": [],
   "source": [
    "def remapear(tabelaAntiga, tabela, adicionarLog):\n",
    "    global contadorValores\n",
    "    contadorValores = 0\n",
    "    for valor in tabelaAntiga:\n",
    "        if(valor != None and valor !='#'):\n",
    "            tabela = incluir(valor, tabela, adicionarLog)\n",
    "    return tabela"
   ]
  },
  {
   "cell_type": "code",
   "execution_count": 8,
   "metadata": {},
   "outputs": [],
   "source": [
    "def doubling(tabela, adicionarLog):\n",
    "    novaTabela = inicilizarTabela(len(tabela) * 2)\n",
    "    novaTabela = remapear(tabela, novaTabela, adicionarLog)\n",
    "    return novaTabela"
   ]
  },
  {
   "cell_type": "code",
   "execution_count": 9,
   "metadata": {},
   "outputs": [],
   "source": [
    "def halving(tabela, adicionarLog):\n",
    "    epsilon = 1\n",
    "    if(len(tabela)/2 >= (1+epsilon)):\n",
    "        novaTabela = inicilizarTabela(int(len(tabela)/2))\n",
    "        novaTabela = remapear(tabela, novaTabela, adicionarLog)\n",
    "    return novaTabela"
   ]
  },
  {
   "cell_type": "markdown",
   "metadata": {},
   "source": [
    "## Funções - Tabela Hash"
   ]
  },
  {
   "cell_type": "code",
   "execution_count": 10,
   "metadata": {},
   "outputs": [],
   "source": [
    "def incluir(valor, tabela, adicionarLog):\n",
    "    global contadorValores\n",
    "    hX = funcaoHash(valor)\n",
    "    valorInserido = False\n",
    "    houveDoubling = False\n",
    "    i = 0\n",
    "    while(not valorInserido):\n",
    "        if(i < len(tabela)):\n",
    "            posicao = (hX + i) % len(tabela)\n",
    "            if(tabela[posicao] == None or tabela[posicao] == '#'):\n",
    "                tabela[posicao] = valor\n",
    "                contadorValores = contadorValores + 1\n",
    "                valorInserido = True\n",
    "                if(adicionarLog):\n",
    "                    logs.append('INC:'+str(valor)+'\\n'+str(hX % len(tabela))+' '+str(posicao)+'\\n\\n')\n",
    "                    print('INC:'+str(valor)+'\\n'+str(hX % len(tabela))+' '+str(posicao)+'\\n\\n')\n",
    "            else:\n",
    "                i = i + 1\n",
    "        else:\n",
    "            tabela = doubling(tabela, False)\n",
    "            houveDoubling = True\n",
    "            i = 0\n",
    "    if(houveDoubling):\n",
    "        logs.append('DOBRAR TAM:'+str(len(tabela))+'\\n\\n')\n",
    "        print('DOBRAR TAM:'+str(len(tabela))+'\\n\\n')\n",
    "    return tabela"
   ]
  },
  {
   "cell_type": "code",
   "execution_count": 11,
   "metadata": {},
   "outputs": [],
   "source": [
    "def buscar(valor, tabela, adicionarLog):\n",
    "    hX = funcaoHash(valor)\n",
    "    valorEncontrado = False\n",
    "    i = 0\n",
    "    while(not valorEncontrado and i<len(tabela)):\n",
    "        posicao = (hX + i) % len(tabela)\n",
    "        if(tabela[posicao] == valor):\n",
    "            if(adicionarLog):\n",
    "                logs.append('BUS:'+str(valor)+'\\n'+str(hX % len(tabela))+' '+str(posicao)+'\\n\\n')\n",
    "                print('BUS:'+str(valor)+'\\n'+str(hX % len(tabela))+' '+str(posicao)+'\\n\\n')\n",
    "            return posicao\n",
    "        else:\n",
    "            i = i + 1\n",
    "    posicao = -1\n",
    "    if(adicionarLog):\n",
    "        logs.append('BUS:'+str(valor)+'\\n'+str(hX % len(tabela))+' '+str(posicao)+'\\n\\n')\n",
    "        print('BUS:'+str(valor)+'\\n'+str(hX % len(tabela))+' '+str(posicao)+'\\n\\n')\n",
    "    return -1"
   ]
  },
  {
   "cell_type": "code",
   "execution_count": 12,
   "metadata": {},
   "outputs": [],
   "source": [
    "def remover(valor, tabela):\n",
    "    global contadorValores\n",
    "    global contadorTag\n",
    "    hX = funcaoHash(valor)\n",
    "    posicao = buscar(valor, tabela, False)\n",
    "    houveHalving = False\n",
    "    if(posicao != -1):\n",
    "        tabela[posicao] = '#'\n",
    "        contadorValores = contadorValores - 1\n",
    "        contadorTag = contadorTag + 1\n",
    "        logs.append('REM:'+str(valor)+'\\n'+str(hX % len(tabela))+' '+str(posicao)+'\\n\\n')\n",
    "        print('REM:'+str(valor)+'\\n'+str(hX % len(tabela))+' '+str(posicao)+'\\n\\n')\n",
    "        if(contadorTag >= len(tabela)/4):\n",
    "            tabela = limpar(tabela)\n",
    "        if(contadorValores <= len(tabela)/4):\n",
    "            tabela = halving(tabela, False)\n",
    "            houveHalving = True\n",
    "    else:\n",
    "        logs.append('REM:'+str(valor)+'\\n'+str(hX % len(tabela))+' '+str(posicao)+'\\n\\n')\n",
    "        print('REM:'+str(valor)+'\\n'+str(hX % len(tabela))+' '+str(posicao)+'\\n\\n')\n",
    "    if(houveHalving):\n",
    "        logs.append('METADE TAM:'+str(len(tabela))+'\\n\\n')\n",
    "        print('METADE TAM:'+str(len(tabela))+'\\n\\n')\n",
    "    return tabela"
   ]
  },
  {
   "cell_type": "markdown",
   "metadata": {},
   "source": [
    "## Execução"
   ]
  },
  {
   "cell_type": "code",
   "execution_count": 13,
   "metadata": {},
   "outputs": [],
   "source": [
    "logs = []\n",
    "contadorTag = 0\n",
    "contadorValores = 0"
   ]
  },
  {
   "cell_type": "code",
   "execution_count": 14,
   "metadata": {},
   "outputs": [],
   "source": [
    "def executar():\n",
    "    tabela = inicilizarTabela(4)\n",
    "    logs.append('TAM:'+str(len(tabela))+'\\n\\n')\n",
    "    entrada = open('entrada.txt','r')\n",
    "    for comando in entrada:\n",
    "        com, valor = comando.split(':')\n",
    "        if(com == 'INC'):\n",
    "            tabela = incluir(int(valor), tabela, True)\n",
    "        elif(com == 'BUS'):\n",
    "            buscar(int(valor), tabela, True)\n",
    "        elif(com == 'REM'):\n",
    "            tabela = remover(int(valor), tabela)\n",
    "    entrada.close()\n",
    "    saida = open('saida.txt', 'w')\n",
    "    saida.writelines(logs)\n",
    "    saida.close()"
   ]
  },
  {
   "cell_type": "code",
   "execution_count": 15,
   "metadata": {},
   "outputs": [
    {
     "name": "stdout",
     "output_type": "stream",
     "text": [
      "INC:10\n",
      "3 3\n",
      "\n",
      "\n",
      "INC:20\n",
      "1 1\n",
      "\n",
      "\n",
      "REM:10\n",
      "3 3\n",
      "\n",
      "\n",
      "METADE TAM:2\n",
      "\n",
      "\n",
      "INC:15\n",
      "0 0\n",
      "\n",
      "\n",
      "INC:15\n",
      "0 2\n",
      "\n",
      "\n",
      "DOBRAR TAM:4\n",
      "\n",
      "\n",
      "REM:17\n",
      "0 -1\n",
      "\n",
      "\n",
      "BUS:42\n",
      "3 -1\n",
      "\n",
      "\n",
      "INC:42\n",
      "3 3\n",
      "\n",
      "\n",
      "INC:43\n",
      "0 0\n",
      "\n",
      "\n",
      "DOBRAR TAM:8\n",
      "\n",
      "\n"
     ]
    }
   ],
   "source": [
    "executar()"
   ]
  }
 ],
 "metadata": {
  "kernelspec": {
   "display_name": "Python 3",
   "language": "python",
   "name": "python3"
  },
  "language_info": {
   "codemirror_mode": {
    "name": "ipython",
    "version": 3
   },
   "file_extension": ".py",
   "mimetype": "text/x-python",
   "name": "python",
   "nbconvert_exporter": "python",
   "pygments_lexer": "ipython3",
   "version": "3.7.3"
  }
 },
 "nbformat": 4,
 "nbformat_minor": 2
}
